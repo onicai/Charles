{
    "cells": [
        {
            "cell_type": "markdown",
            "metadata": {},
            "source": [
                "# Setup"
            ]
        },
        {
            "cell_type": "markdown",
            "metadata": {},
            "source": [
                "## Verify we're in the Conda environment"
            ]
        },
        {
            "cell_type": "code",
            "execution_count": null,
            "metadata": {},
            "outputs": [],
            "source": [
                "import sys\n",
                "print(sys.executable)"
            ]
        },
        {
            "cell_type": "markdown",
            "metadata": {},
            "source": [
                "## Import python packages"
            ]
        },
        {
            "cell_type": "code",
            "execution_count": null,
            "metadata": {},
            "outputs": [],
            "source": [
                "import os\n",
                "import sys\n",
                "import json\n",
                "import openai\n",
                "from PIL import Image\n",
                "import base64\n",
                "import io\n",
                "from dotenv import load_dotenv\n",
                "import requests\n",
                "from openai import OpenAI\n",
                "import pprint\n",
                "from pathlib import Path\n",
                "from PIL import Image\n",
                "import matplotlib.pyplot as plt\n",
                "import subprocess\n",
                "import textwrap"
            ]
        },
        {
            "cell_type": "markdown",
            "metadata": {},
            "source": [
                "## openAI API key"
            ]
        },
        {
            "cell_type": "code",
            "execution_count": null,
            "metadata": {},
            "outputs": [],
            "source": [
                "# Set up your OpenAI API key\n",
                "# api_key = os.environ.get(\"OPENAI_API_KEY\")\n",
                "\n",
                "# Load the .env file\n",
                "load_dotenv()\n",
                "\n",
                "client = OpenAI(\n",
                "    # This is the default and can be omitted\n",
                "    api_key=os.environ.get(\"OPENAI_API_KEY\"),\n",
                ")\n"
            ]
        },
        {
            "cell_type": "markdown",
            "metadata": {},
            "source": [
                "# Helper functions"
            ]
        },
        {
            "cell_type": "markdown",
            "metadata": {},
            "source": [
                "## Function to base64 encode an image"
            ]
        },
        {
            "cell_type": "code",
            "execution_count": null,
            "metadata": {},
            "outputs": [],
            "source": [
                "def encode_image(image_path):\n",
                "    \"\"\"Encode the image to base64 format to send to OpenAI.\"\"\"\n",
                "    with open(image_path, \"rb\") as image_file:\n",
                "        return base64.b64encode(image_file.read()).decode('utf-8')"
            ]
        },
        {
            "cell_type": "markdown",
            "metadata": {},
            "source": [
                "## Function to load existing results from JSON"
            ]
        },
        {
            "cell_type": "code",
            "execution_count": null,
            "metadata": {},
            "outputs": [],
            "source": [
                "def load_existing_results(filename):\n",
                "    \"\"\"Load existing data from JSON file if it exists.\"\"\"\n",
                "    if os.path.exists(filename):\n",
                "        with open(filename, 'r') as f:\n",
                "            return json.load(f)\n",
                "    return []"
            ]
        },
        {
            "cell_type": "markdown",
            "metadata": {},
            "source": [
                "## Function to review the generated stories for each image"
            ]
        },
        {
            "cell_type": "code",
            "execution_count": null,
            "metadata": {},
            "outputs": [],
            "source": [
                "# Display for review\n",
                "def review(input_file):\n",
                "    inputs = []\n",
                "\n",
                "    # Read the input file\n",
                "    if os.path.exists(input_file):\n",
                "        with open(input_file, 'r') as f:\n",
                "            try:\n",
                "                inputs = json.load(f)\n",
                "            except json.JSONDecodeError:\n",
                "                print(f\"Error: Could not parse existing data in {input_file}.\")\n",
                "                sys.exit(1)\n",
                "    else:\n",
                "        print(f\"Error: Could not find input_file {input_file}.\")\n",
                "        sys.exit(1)\n",
                "    \n",
                "\n",
                "    # Create a set of image paths\n",
                "    inputs_image_paths = {entry[\"image\"] for entry in inputs}\n",
                "\n",
                "    # Base directory containing all the folders\n",
                "    base_dir = Path(\"/Scandisk/onicai/charles/images\")\n",
                "    image_paths = [path for path in base_dir.glob(\"**/*.png\") if not path.name.startswith(\".\")]\n",
                "    thumbnail_size = (200, 200)\n",
                "\n",
                "    icount = 0\n",
                "    count_not_enough_sentences = 0\n",
                "    for image_path in image_paths:\n",
                "        icount += 1\n",
                "        existing_entry = None\n",
                "\n",
                "        # Find the image\n",
                "        if str(image_path) in inputs_image_paths:\n",
                "            existing_entry = next(entry for entry in inputs if entry[\"image\"] == str(image_path))\n",
                "            accepted_opening_sentences_with_stories = existing_entry[\"response\"][\"accepted_opening_sentences_with_stories\"]\n",
                "            # rejected_opening_sentences_with_stories = existing_entry[\"response\"][\"rejected_opening_sentences_with_stories\"]\n",
                "            if len(accepted_opening_sentences_with_stories) < 10:\n",
                "                count_not_enough_sentences += 1\n",
                "                print(f\"------------------\\n image {icount}: {image_path}\")\n",
                "                # Open and display the image\n",
                "                image = Image.open(image_path)\n",
                "                image.thumbnail(thumbnail_size)  # Resize the image to a thumbnail\n",
                "                plt.figure(figsize=(4, 4))  # Adjust figure size\n",
                "                plt.imshow(image)\n",
                "                plt.axis('off')  # Hide axes for better view\n",
                "                plt.show()\n",
                "                print(f\"# accepted opening sentences = {len(accepted_opening_sentences_with_stories)}\")\n",
                "                # print(json.dumps(existing_entry, indent=4))\n",
                "            continue\n",
                "        \n",
                "        # Not yet processed, ERROR\n",
                "        print(\"ERROR: Stories for this image were not yet judged.\")\n",
                "        sys.exit(1)\n",
                "\n",
                "    print(f\"Number of images with not exactly than 10 sentences = {count_not_enough_sentences}\")"
            ]
        },
        {
            "cell_type": "markdown",
            "metadata": {},
            "source": [
                "## Function to call llama2.c"
            ]
        },
        {
            "cell_type": "code",
            "execution_count": null,
            "metadata": {},
            "outputs": [],
            "source": [
                "def generate_story(opening_sentence):\n",
                "    # Define the command as a list\n",
                "    command = [\n",
                "        \"/Users/arjaan/icppWorld/repos/llama2.c/run\",\n",
                "        \"/Users/arjaan/icppWorld/repos/charles/models/out-09/model.bin\",\n",
                "        \"-z\", \"/Users/arjaan/icppWorld/repos/charles/models/out-09/tok4096.bin\",\n",
                "        \"-t\", \"0.1\",\n",
                "        \"-p\", \"0.9\",\n",
                "        \"-i\", opening_sentence\n",
                "    ]\n",
                "\n",
                "    # Run the command and capture the output\n",
                "    result = subprocess.run(command, stdout=subprocess.PIPE, stderr=subprocess.PIPE, text=True)\n",
                "\n",
                "    # Process the output to exclude the \"achieved tok/s\" line\n",
                "    output_lines = result.stdout.strip().split('\\n')\n",
                "    story = \"\\n\".join(line for line in output_lines if \"achieved tok/s\" not in line)\n",
                "\n",
                "    return story"
            ]
        },
        {
            "cell_type": "markdown",
            "metadata": {},
            "source": [
                "## Function to reformat for bioniq"
            ]
        },
        {
            "cell_type": "code",
            "execution_count": null,
            "metadata": {},
            "outputs": [],
            "source": [
                "def reformat(input_file, output_file, image_start, image_end):\n",
                "    inputs = []\n",
                "    outputs = []\n",
                "\n",
                "    # Read the input file\n",
                "    if os.path.exists(input_file):\n",
                "        with open(input_file, 'r') as f:\n",
                "            try:\n",
                "                inputs = json.load(f)\n",
                "            except json.JSONDecodeError:\n",
                "                print(f\"Error: Could not parse existing data in {input_file}.\")\n",
                "                sys.exit(1)\n",
                "    else:\n",
                "        print(f\"Error: Could not find input_file {input_file}.\")\n",
                "        sys.exit(1)\n",
                "    \n",
                "\n",
                "    base_dir = Path(\"/Users/arjaan/icppWorld/repos/charles/assets/images_charles_for_bioniq\")\n",
                "    thumbnail_size = (200, 200)\n",
                "\n",
                "    for input in inputs:\n",
                "        reviewed = input[\"reviewed\"]\n",
                "        image_index = input[\"image_index\"]\n",
                "        image_category = input[\"image_category\"]\n",
                "        image_filename = input[\"image_filename\"]\n",
                "        num_prompts = input[\"num_prompts\"]\n",
                "        prompts = input[\"prompts\"]\n",
                "\n",
                "        image_path = base_dir / image_filename\n",
                "        \n",
                "        if not reviewed or num_prompts != len(prompts) or num_prompts != 10:\n",
                "            # Open and display the image\n",
                "            print(f\"--------------------------------------------------\")\n",
                "            image = Image.open(image_path)\n",
                "            image.thumbnail(thumbnail_size)  # Resize the image to a thumbnail\n",
                "            plt.figure(figsize=(2, 2))  # Adjust figure size\n",
                "            plt.imshow(image)\n",
                "            plt.axis('off')  # Hide axes for better view\n",
                "            plt.show()\n",
                "\n",
                "            if not reviewed:\n",
                "                print(f\"To be reviewed\")\n",
                "            else:\n",
                "                print(\"Is reviewed, but num_prompts is wrong...???...\")\n",
                "\n",
                "            print(f\"reviewed        : {reviewed}\")\n",
                "            print(f\"image_index     : {image_index}\")\n",
                "            print(f\"image_category  : {image_category}\")\n",
                "            print(f\"image_filename  : {image_filename}\")\n",
                "            print(f\"image_path      : {str(image_path)}\")\n",
                "            print(f\"num_prompts     : {num_prompts}\")\n",
                "            print(f\"len(prompts)    : {len(prompts)}\")\n",
                "            print(\"prompts:\")\n",
                "            for prompt_index, prompt in enumerate(prompts):\n",
                "                print(\"=====================\")\n",
                "                plt.figure(figsize=(2, 2))  # Adjust figure size\n",
                "                plt.imshow(image)\n",
                "                plt.axis('off')  # Hide axes for better view\n",
                "                plt.show()\n",
                "                print(f\"image_filename  : {image_filename}\")\n",
                "                print(\"\")\n",
                "                print(f\"{prompt_index}: {prompt}\")\n",
                "                \n",
                "                \n",
                "                story = generate_story(prompt)\n",
                "                \n",
                "                # Wrap the text to 80 characters per line\n",
                "                print(\"\")\n",
                "                wrapped_text = textwrap.fill(story, width=80)\n",
                "                print(wrapped_text)\n",
                "                print(\"\")\n",
                "            \n",
                "\n",
                "            print(\"STILL MORE REVIEW WORK TO DO...\")\n",
                "            sys.exit(1)\n",
                "        \n",
                "    #     # reformat into double-pages structure\n",
                "    #     print(\"IMPLEMENT REFORMAT INTO DOUBLE-PAGES STRUCTURE...\")\n",
                "    #     sys.exit(1)\n",
                "    #     output = {\n",
                "    #         \"reviewed\": False,\n",
                "    #         \"image_index\": image_index,\n",
                "    #         \"image_category\": image_category,\n",
                "    #         \"image_filename\": image_filename,\n",
                "    #         \"image_path\": str(image_path),\n",
                "    #         \"num_prompts\": len(prompts),\n",
                "    #         \"prompts\": prompts\n",
                "    #     }\n",
                "    #     outputs.append(output)\n",
                "\n",
                "\n",
                "    # # Save the reformatted data to the output file\n",
                "    # with open(output_file, 'w') as f:\n",
                "    #     json.dump(outputs, f, indent=4)\n",
                "\n",
                "    # print(f\"Saved everything to : {output_file}\")"
            ]
        },
        {
            "cell_type": "markdown",
            "metadata": {},
            "source": [
                "# Run it"
            ]
        },
        {
            "cell_type": "code",
            "execution_count": null,
            "metadata": {},
            "outputs": [],
            "source": [
                "input_file = './5-reformat.json'\n",
                "\n",
                "image_start = 0\n",
                "image_end = 500\n",
                "\n",
                "output_file = './no-output-file'\n",
                "reformat(input_file, output_file, image_start, image_end)"
            ]
        },
        {
            "cell_type": "markdown",
            "metadata": {},
            "source": []
        }
    ],
    "metadata": {
        "kernelspec": {
            "display_name": "btc-stories",
            "language": "python",
            "name": "python3"
        },
        "language_info": {
            "codemirror_mode": {
                "name": "ipython",
                "version": 3
            },
            "file_extension": ".py",
            "mimetype": "text/x-python",
            "name": "python",
            "nbconvert_exporter": "python",
            "pygments_lexer": "ipython3",
            "version": "3.11.9"
        }
    },
    "nbformat": 4,
    "nbformat_minor": 2
}