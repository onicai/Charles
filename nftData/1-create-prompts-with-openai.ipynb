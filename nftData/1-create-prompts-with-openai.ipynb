{
 "cells": [
  {
   "cell_type": "markdown",
   "metadata": {},
   "source": [
    "# Setup"
   ]
  },
  {
   "cell_type": "markdown",
   "metadata": {},
   "source": [
    "## Verify we're in the Conda environment"
   ]
  },
  {
   "cell_type": "code",
   "execution_count": null,
   "metadata": {},
   "outputs": [],
   "source": [
    "import sys\n",
    "print(sys.executable)"
   ]
  },
  {
   "cell_type": "markdown",
   "metadata": {},
   "source": [
    "## Import python packages"
   ]
  },
  {
   "cell_type": "code",
   "execution_count": null,
   "metadata": {},
   "outputs": [],
   "source": [
    "import os\n",
    "import sys\n",
    "import json\n",
    "import openai\n",
    "from PIL import Image\n",
    "import base64\n",
    "import io\n",
    "from dotenv import load_dotenv\n",
    "import requests\n",
    "from openai import OpenAI\n",
    "import pprint\n",
    "from pathlib import Path\n",
    "from PIL import Image\n",
    "import matplotlib.pyplot as plt"
   ]
  },
  {
   "cell_type": "markdown",
   "metadata": {},
   "source": [
    "## openAI API key"
   ]
  },
  {
   "cell_type": "code",
   "execution_count": 3,
   "metadata": {},
   "outputs": [],
   "source": [
    "# Set up your OpenAI API key\n",
    "# api_key = os.environ.get(\"OPENAI_API_KEY\")\n",
    "\n",
    "# Load the .env file\n",
    "load_dotenv()\n",
    "\n",
    "client = OpenAI(\n",
    "    # This is the default and can be omitted\n",
    "    api_key=os.environ.get(\"OPENAI_API_KEY\"),\n",
    ")\n"
   ]
  },
  {
   "cell_type": "markdown",
   "metadata": {},
   "source": [
    "# Helper functions"
   ]
  },
  {
   "cell_type": "markdown",
   "metadata": {},
   "source": [
    "## Function to base64 encode an image"
   ]
  },
  {
   "cell_type": "code",
   "execution_count": 4,
   "metadata": {},
   "outputs": [],
   "source": [
    "def encode_image(image_path):\n",
    "    \"\"\"Encode the image to base64 format to send to OpenAI.\"\"\"\n",
    "    with open(image_path, \"rb\") as image_file:\n",
    "        return base64.b64encode(image_file.read()).decode('utf-8')"
   ]
  },
  {
   "cell_type": "markdown",
   "metadata": {},
   "source": [
    "## Function to load existing results from JSON"
   ]
  },
  {
   "cell_type": "code",
   "execution_count": null,
   "metadata": {},
   "outputs": [],
   "source": [
    "def load_existing_results(filename):\n",
    "    \"\"\"Load existing data from JSON file if it exists.\"\"\"\n",
    "    if os.path.exists(filename):\n",
    "        with open(filename, 'r') as f:\n",
    "            return json.load(f)\n",
    "    return []"
   ]
  },
  {
   "cell_type": "markdown",
   "metadata": {},
   "source": [
    "## Function to send the request to OpenAI API"
   ]
  },
  {
   "cell_type": "code",
   "execution_count": null,
   "metadata": {},
   "outputs": [],
   "source": [
    "# Function to send the request to OpenAI API\n",
    "def get_image_description_and_prompts(prompt, base64_image):\n",
    "    chat_completion = client.chat.completions.create(\n",
    "        messages=[\n",
    "            {\n",
    "                \"role\": \"user\",\n",
    "                \"content\": [\n",
    "                    {\n",
    "                        \"type\": \"text\",\n",
    "                        \"text\": prompt\n",
    "                    },\n",
    "                    {\n",
    "                        \"type\": \"image_url\",\n",
    "                        \"image_url\": {\n",
    "                            \"url\": f\"data:image/jpeg;base64,{base64_image}\"\n",
    "                        }\n",
    "                    }\n",
    "                ]\n",
    "            }\n",
    "        ],\n",
    "        model=\"gpt-4o-mini\",\n",
    "        response_format={\"type\": \"json_object\"},\n",
    "        max_tokens=10000\n",
    "    )\n",
    "\n",
    "    if (chat_completion.choices[0].finish_reason != \"stop\"):\n",
    "        print(\"Something went wrong during openAI call - finish_reason is not 'stop' \")\n",
    "        print(chat_completion)\n",
    "        sys.exit(1)\n",
    "\n",
    "    content = chat_completion.choices[0].message.content.strip()\n",
    "    # if content.startswith('```json') and content.endswith('```'):\n",
    "    #     # Remove the ```json and ``` from the string\n",
    "    #     cleaned_result = content.strip('```json').strip('```')\n",
    "\n",
    "    # Convert the content to a dictionary\n",
    "    try:\n",
    "        data = json.loads(content)\n",
    "    except json.JSONDecodeError:\n",
    "        print(\"Error: The content is not valid JSON.\")\n",
    "        sys.exit()\n",
    "\n",
    "    pprint.pprint(data)\n",
    "    return data"
   ]
  },
  {
   "cell_type": "markdown",
   "metadata": {},
   "source": [
    "## Function to process N images"
   ]
  },
  {
   "cell_type": "code",
   "execution_count": null,
   "metadata": {},
   "outputs": [],
   "source": [
    "# Function to process N images\n",
    "def process_images(prompt, output_file):\n",
    "    results = []\n",
    "\n",
    "    # If output file exists, load existing data\n",
    "    if os.path.exists(output_file):\n",
    "        with open(output_file, 'r') as f:\n",
    "            try:\n",
    "                results = json.load(f)\n",
    "            except json.JSONDecodeError:\n",
    "                print(f\"Warning: Could not parse existing data in {output_file}. Starting fresh.\")\n",
    "    \n",
    "    # Create a set of image paths already processed\n",
    "    existing_image_paths = {entry[\"image\"] for entry in results}\n",
    "\n",
    "    # Base directory containing all the folders\n",
    "    base_dir = Path(\"/Scandisk/onicai/charles/images\")\n",
    "    image_paths = [path for path in base_dir.glob(\"**/*.png\") if not path.name.startswith(\".\")]\n",
    "    thumbnail_size = (100, 100)\n",
    "\n",
    "    icount = 0\n",
    "    for image_path in image_paths:\n",
    "        icount += 1\n",
    "        print(f\"------------------\\n Processing image {icount}: {image_path}\")\n",
    "        # Open and display the image\n",
    "        image = Image.open(image_path)\n",
    "        image.thumbnail(thumbnail_size)  # Resize the image to a thumbnail\n",
    "        plt.figure(figsize=(2, 2))  # Adjust figure size\n",
    "        plt.imshow(image)\n",
    "        plt.axis('off')  # Hide axes for better view\n",
    "        plt.show()\n",
    "\n",
    "        # Check if this image has already been processed\n",
    "        if str(image_path) in existing_image_paths:\n",
    "            print(\"This image was already processed, with these results:\")\n",
    "            existing_entry = next(entry for entry in results if entry[\"image\"] == str(image_path))\n",
    "            print(json.dumps(existing_entry[\"response\"], indent=4))\n",
    "            continue\n",
    "        \n",
    "        # Not yet processed, go ahead and call openAI\n",
    "        print(\"This image was not yet processed. Calling openAI...\")\n",
    "        if os.path.exists(image_path):\n",
    "            base64_image = encode_image(image_path)\n",
    "            response = get_image_description_and_prompts(prompt, base64_image)\n",
    "            results.append({\n",
    "                \"image\": str(image_path),\n",
    "                \"response\": response\n",
    "            })\n",
    "            print(json.dumps(response, indent=4))\n",
    "        else:\n",
    "            print(f\"Image {image_path} does not exist.\")\n",
    "            sys.exit()\n",
    "    \n",
    "        # Save the updated results back to the output file\n",
    "        with open(output_file, 'w') as f:\n",
    "            json.dump(results, f, indent=4)"
   ]
  },
  {
   "cell_type": "markdown",
   "metadata": {},
   "source": [
    "# Run it"
   ]
  },
  {
   "cell_type": "code",
   "execution_count": null,
   "metadata": {},
   "outputs": [],
   "source": [
    "output_file = './1-create-prompts-with-openai.json'\n",
    "num_stories = 20\n",
    "\n",
    "prompt = \"\"\"\n",
    "First, describe this image of a Teddy Bear named Charles.\n",
    "\n",
    "Then, create 20 opening sentences for a short children's story that will capture the description of this image.\n",
    "\n",
    "Make sure to include the specific props and items shown in the image in the opening sentences.\n",
    "\n",
    "The prompts must be shorter than 15 words.\n",
    "\n",
    "Return the result in JSON with this schema:\n",
    "{\n",
    "        \"image\": \"...png\",\n",
    "        \"response\": {\n",
    "            \"description\": \"...\",\n",
    "            \"opening_sentences\": [\n",
    "                \"...\",\n",
    "                \"...\",\n",
    "                ...\n",
    "            ]\n",
    "        }\n",
    "    }\n",
    "\"\"\"\n",
    "\n",
    "process_images(prompt, output_file)"
   ]
  },
  {
   "cell_type": "markdown",
   "metadata": {},
   "source": []
  }
 ],
 "metadata": {
  "kernelspec": {
   "display_name": "charles-nftData",
   "language": "python",
   "name": "python3"
  },
  "language_info": {
   "codemirror_mode": {
    "name": "ipython",
    "version": 3
   },
   "file_extension": ".py",
   "mimetype": "text/x-python",
   "name": "python",
   "nbconvert_exporter": "python",
   "pygments_lexer": "ipython3",
   "version": "3.11.11"
  }
 },
 "nbformat": 4,
 "nbformat_minor": 2
}
