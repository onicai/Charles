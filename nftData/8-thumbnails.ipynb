{
 "cells": [
  {
   "cell_type": "markdown",
   "metadata": {},
   "source": [
    "# Setup"
   ]
  },
  {
   "cell_type": "markdown",
   "metadata": {},
   "source": [
    "## Verify we're in the Conda environment"
   ]
  },
  {
   "cell_type": "code",
   "execution_count": null,
   "metadata": {},
   "outputs": [],
   "source": [
    "import sys\n",
    "print(sys.executable)"
   ]
  },
  {
   "cell_type": "markdown",
   "metadata": {},
   "source": [
    "## Import python packages"
   ]
  },
  {
   "cell_type": "code",
   "execution_count": null,
   "metadata": {},
   "outputs": [],
   "source": [
    "import os\n",
    "import sys\n",
    "import json\n",
    "import openai\n",
    "from PIL import Image\n",
    "import base64\n",
    "import io\n",
    "from dotenv import load_dotenv\n",
    "import requests\n",
    "from openai import OpenAI\n",
    "import pprint\n",
    "from pathlib import Path\n",
    "from PIL import Image\n",
    "import matplotlib.pyplot as plt\n",
    "import subprocess\n",
    "import textwrap\n",
    "from collections import Counter\n",
    "import pprint\n",
    "import random\n",
    "from collections import defaultdict"
   ]
  },
  {
   "cell_type": "markdown",
   "metadata": {},
   "source": [
    "## Function to create_thumbnails for each storyBook"
   ]
  },
  {
   "cell_type": "code",
   "execution_count": null,
   "metadata": {},
   "outputs": [],
   "source": [
    "import os\n",
    "import json\n",
    "import shutil\n",
    "from PIL import Image\n",
    "\n",
    "# Configuration\n",
    "input_json = \"storybookNFTs.json\"\n",
    "image_base_dir = Path(\"./images_charles\")\n",
    "output_dir = Path(\"./images_charles_nft_thumbnails\")\n",
    "thumbnail_size = (150, 150)\n",
    "\n",
    "# Delete the folder and all its contents if it exists\n",
    "shutil.rmtree(output_dir)\n",
    "\n",
    "# Ensure output directory exists\n",
    "os.makedirs(output_dir, exist_ok=True)\n",
    "\n",
    "# Load JSON data\n",
    "with open(input_json, \"r\") as file:\n",
    "    data = json.load(file)\n",
    "\n",
    "def process_images(data):\n",
    "    index = 0  # Counter for naming output files\n",
    "    for page in data:\n",
    "        # Extract the first doublepage item\n",
    "        first_item = page.get(\"doublepages\", [None])[0]\n",
    "        if not first_item:\n",
    "            continue  # Skip if no valid doublepage\n",
    "\n",
    "        # Extract image path\n",
    "        image_url = first_item.get(\"imageUrl\")\n",
    "        if not image_url:\n",
    "            print(f\"No imageUrl found for index {index}\")\n",
    "            continue\n",
    "\n",
    "        image_path = os.path.join(image_base_dir, os.path.basename(image_url))\n",
    "\n",
    "        # Process the image\n",
    "        if not os.path.exists(image_path):\n",
    "            print(f\"Image not found: {image_path}\")\n",
    "            continue\n",
    "\n",
    "        try:\n",
    "            # Open the image and convert to thumbnail\n",
    "            with Image.open(image_path) as img:\n",
    "                img = img.convert(\"RGB\")  # Ensure image is in RGB mode\n",
    "\n",
    "                # Make the image square by cropping\n",
    "                min_side = min(img.size)\n",
    "                img = img.crop((\n",
    "                    (img.width - min_side) // 2,\n",
    "                    (img.height - min_side) // 2,\n",
    "                    (img.width + min_side) // 2,\n",
    "                    (img.height + min_side) // 2,\n",
    "                ))\n",
    "\n",
    "                # Resize to thumbnail size\n",
    "                img.thumbnail(thumbnail_size)\n",
    "\n",
    "                # Save image with zero-padded index\n",
    "                output_file = os.path.join(output_dir, f\"{index:03}.png\")\n",
    "                img.save(output_file, format=\"PNG\", optimize=True)\n",
    "                print(f\"Thumbnail saved: {output_file}\")\n",
    "\n",
    "        except Exception as e:\n",
    "            print(f\"Error processing image {image_path}: {e}\")\n",
    "\n",
    "        index += 1\n",
    "\n",
    "# Run the processing\n",
    "process_images(data)"
   ]
  },
  {
   "cell_type": "markdown",
   "metadata": {},
   "source": []
  }
 ],
 "metadata": {
  "kernelspec": {
   "display_name": "btc-stories",
   "language": "python",
   "name": "python3"
  },
  "language_info": {
   "codemirror_mode": {
    "name": "ipython",
    "version": 3
   },
   "file_extension": ".py",
   "mimetype": "text/x-python",
   "name": "python",
   "nbconvert_exporter": "python",
   "pygments_lexer": "ipython3",
   "version": "3.11.9"
  }
 },
 "nbformat": 4,
 "nbformat_minor": 2
}
