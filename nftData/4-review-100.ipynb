{
    "cells": [
        {
            "cell_type": "markdown",
            "metadata": {},
            "source": [
                "# Setup"
            ]
        },
        {
            "cell_type": "markdown",
            "metadata": {},
            "source": [
                "## Verify we're in the Conda environment"
            ]
        },
        {
            "cell_type": "code",
            "execution_count": null,
            "metadata": {},
            "outputs": [],
            "source": [
                "import sys\n",
                "print(sys.executable)"
            ]
        },
        {
            "cell_type": "markdown",
            "metadata": {},
            "source": [
                "## Import python packages"
            ]
        },
        {
            "cell_type": "code",
            "execution_count": null,
            "metadata": {},
            "outputs": [],
            "source": [
                "import os\n",
                "import sys\n",
                "import json\n",
                "import openai\n",
                "from PIL import Image\n",
                "import base64\n",
                "import io\n",
                "from dotenv import load_dotenv\n",
                "import requests\n",
                "from openai import OpenAI\n",
                "import pprint\n",
                "from pathlib import Path\n",
                "from PIL import Image\n",
                "import matplotlib.pyplot as plt"
            ]
        },
        {
            "cell_type": "markdown",
            "metadata": {},
            "source": [
                "## openAI API key"
            ]
        },
        {
            "cell_type": "code",
            "execution_count": null,
            "metadata": {},
            "outputs": [],
            "source": [
                "# Set up your OpenAI API key\n",
                "# api_key = os.environ.get(\"OPENAI_API_KEY\")\n",
                "\n",
                "# Load the .env file\n",
                "load_dotenv()\n",
                "\n",
                "client = OpenAI(\n",
                "    # This is the default and can be omitted\n",
                "    api_key=os.environ.get(\"OPENAI_API_KEY\"),\n",
                ")\n"
            ]
        },
        {
            "cell_type": "markdown",
            "metadata": {},
            "source": [
                "# Helper functions"
            ]
        },
        {
            "cell_type": "markdown",
            "metadata": {},
            "source": [
                "## Function to base64 encode an image"
            ]
        },
        {
            "cell_type": "code",
            "execution_count": null,
            "metadata": {},
            "outputs": [],
            "source": [
                "def encode_image(image_path):\n",
                "    \"\"\"Encode the image to base64 format to send to OpenAI.\"\"\"\n",
                "    with open(image_path, \"rb\") as image_file:\n",
                "        return base64.b64encode(image_file.read()).decode('utf-8')"
            ]
        },
        {
            "cell_type": "markdown",
            "metadata": {},
            "source": [
                "## Function to load existing results from JSON"
            ]
        },
        {
            "cell_type": "code",
            "execution_count": null,
            "metadata": {},
            "outputs": [],
            "source": [
                "def load_existing_results(filename):\n",
                "    \"\"\"Load existing data from JSON file if it exists.\"\"\"\n",
                "    if os.path.exists(filename):\n",
                "        with open(filename, 'r') as f:\n",
                "            return json.load(f)\n",
                "    return []"
            ]
        },
        {
            "cell_type": "markdown",
            "metadata": {},
            "source": [
                "## Function to review the generated stories for each image"
            ]
        },
        {
            "cell_type": "code",
            "execution_count": null,
            "metadata": {},
            "outputs": [],
            "source": [
                "# Display for review\n",
                "def review(input_file):\n",
                "    inputs = []\n",
                "\n",
                "    # Read the input file\n",
                "    if os.path.exists(input_file):\n",
                "        with open(input_file, 'r') as f:\n",
                "            try:\n",
                "                inputs = json.load(f)\n",
                "            except json.JSONDecodeError:\n",
                "                print(f\"Error: Could not parse existing data in {input_file}.\")\n",
                "                sys.exit(1)\n",
                "    else:\n",
                "        print(f\"Error: Could not find input_file {input_file}.\")\n",
                "        sys.exit(1)\n",
                "    \n",
                "\n",
                "    # Create a set of image paths\n",
                "    inputs_image_paths = {entry[\"image\"] for entry in inputs}\n",
                "\n",
                "    # Base directory containing all the folders\n",
                "    base_dir = Path(\"/Scandisk/onicai/charles/images\")\n",
                "    image_paths = [path for path in base_dir.glob(\"**/*.png\") if not path.name.startswith(\".\")]\n",
                "    thumbnail_size = (200, 200)\n",
                "\n",
                "    icount = 0\n",
                "    count_not_enough_sentences = 0\n",
                "    for image_path in image_paths:\n",
                "        icount += 1\n",
                "        existing_entry = None\n",
                "\n",
                "        # Find the image\n",
                "        if str(image_path) in inputs_image_paths:\n",
                "            existing_entry = next(entry for entry in inputs if entry[\"image\"] == str(image_path))\n",
                "            accepted_opening_sentences_with_stories = existing_entry[\"response\"][\"accepted_opening_sentences_with_stories\"]\n",
                "            # rejected_opening_sentences_with_stories = existing_entry[\"response\"][\"rejected_opening_sentences_with_stories\"]\n",
                "            if len(accepted_opening_sentences_with_stories) < 10:\n",
                "                count_not_enough_sentences += 1\n",
                "                print(f\"------------------\\n image {icount}: {image_path}\")\n",
                "                # Open and display the image\n",
                "                image = Image.open(image_path)\n",
                "                image.thumbnail(thumbnail_size)  # Resize the image to a thumbnail\n",
                "                plt.figure(figsize=(4, 4))  # Adjust figure size\n",
                "                plt.imshow(image)\n",
                "                plt.axis('off')  # Hide axes for better view\n",
                "                plt.show()\n",
                "                print(f\"# accepted opening sentences = {len(accepted_opening_sentences_with_stories)}\")\n",
                "                # print(json.dumps(existing_entry, indent=4))\n",
                "            continue\n",
                "        \n",
                "        # Not yet processed, ERROR\n",
                "        print(\"ERROR: Stories for this image were not yet judged.\")\n",
                "        sys.exit(1)\n",
                "\n",
                "    print(f\"Number of images with less than 10 sentences = {count_not_enough_sentences}\")"
            ]
        },
        {
            "cell_type": "markdown",
            "metadata": {},
            "source": [
                "# Run it"
            ]
        },
        {
            "cell_type": "code",
            "execution_count": null,
            "metadata": {},
            "outputs": [],
            "source": [
                "input_file = './3-stories-judged-by-openai.json'\n",
                "# output_file = './3-stories-judged-by-openai.json'\n",
                "\n",
                "istart = 0\n",
                "iend = 1\n",
                "review(input_file)"
            ]
        },
        {
            "cell_type": "markdown",
            "metadata": {},
            "source": []
        }
    ],
    "metadata": {
        "kernelspec": {
            "display_name": "btc-stories",
            "language": "python",
            "name": "python3"
        },
        "language_info": {
            "codemirror_mode": {
                "name": "ipython",
                "version": 3
            },
            "file_extension": ".py",
            "mimetype": "text/x-python",
            "name": "python",
            "nbconvert_exporter": "python",
            "pygments_lexer": "ipython3",
            "version": "3.11.9"
        }
    },
    "nbformat": 4,
    "nbformat_minor": 2
}