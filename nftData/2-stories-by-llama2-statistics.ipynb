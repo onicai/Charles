{
 "cells": [
  {
   "cell_type": "markdown",
   "metadata": {},
   "source": [
    "# Setup"
   ]
  },
  {
   "cell_type": "markdown",
   "metadata": {},
   "source": [
    "## Verify we're in the Conda environment"
   ]
  },
  {
   "cell_type": "code",
   "execution_count": null,
   "metadata": {},
   "outputs": [],
   "source": [
    "import sys\n",
    "print(sys.executable)"
   ]
  },
  {
   "cell_type": "markdown",
   "metadata": {},
   "source": [
    "## Import python packages"
   ]
  },
  {
   "cell_type": "code",
   "execution_count": 2,
   "metadata": {},
   "outputs": [],
   "source": [
    "import os\n",
    "import sys\n",
    "import json\n",
    "import openai\n",
    "from PIL import Image\n",
    "import base64\n",
    "import io\n",
    "from dotenv import load_dotenv\n",
    "import requests\n",
    "from openai import OpenAI\n",
    "import pprint\n",
    "from pathlib import Path\n",
    "from PIL import Image\n",
    "import matplotlib.pyplot as plt"
   ]
  },
  {
   "cell_type": "markdown",
   "metadata": {},
   "source": []
  },
  {
   "cell_type": "code",
   "execution_count": null,
   "metadata": {},
   "outputs": [],
   "source": [
    "import json\n",
    "\n",
    "# File path for the JSON file\n",
    "file_path = \"2-stories-by-llama2.json\"\n",
    "\n",
    "# Initialize variables to calculate the statistics\n",
    "total_stories = 0\n",
    "total_characters = 0\n",
    "total_words = 0\n",
    "max_characters = 0\n",
    "stories_over_487 = 0\n",
    "\n",
    "# Load the JSON data\n",
    "with open(file_path, 'r') as file:\n",
    "    data = json.load(file)\n",
    "\n",
    "# Iterate through the data to analyze story lengths\n",
    "for item in data:\n",
    "    for opening in item.get(\"opening_sentences_with_stories\", []):\n",
    "        for story in opening.get(\"story_set\", []):\n",
    "            # Calculate the character and word counts for each story\n",
    "            story_length = len(story)\n",
    "            story_word_count = len(story.split())\n",
    "            \n",
    "            total_stories += 1\n",
    "            total_characters += story_length\n",
    "            total_words += story_word_count\n",
    "            max_characters = max(max_characters, story_length)\n",
    "            \n",
    "            # Check if the story has more than 487 characters\n",
    "            if story_length > 487:\n",
    "                stories_over_487 += 1\n",
    "\n",
    "# Calculate averages\n",
    "average_characters = total_characters / total_stories if total_stories else 0\n",
    "average_words = total_words / total_stories if total_stories else 0\n",
    "percentage_over_487 = (stories_over_487 / total_stories * 100) if total_stories else 0\n",
    "\n",
    "# Print the results\n",
    "print(\"Statistics about the stories:\")\n",
    "print(f\"Total number of stories: {total_stories}\")\n",
    "print(f\"Average number of characters per story: {average_characters:.2f}\")\n",
    "print(f\"Average number of words per story: {average_words:.2f}\")\n",
    "print(f\"Max number of characters in a story: {max_characters}\")\n",
    "print(f\"Number of stories with more than 487 characters: {stories_over_487}\")\n",
    "print(f\"Percentage of stories with more than 487 characters: {percentage_over_487:.2f}%\")\n"
   ]
  },
  {
   "cell_type": "code",
   "execution_count": null,
   "metadata": {},
   "outputs": [],
   "source": []
  }
 ],
 "metadata": {
  "kernelspec": {
   "display_name": "btc-stories",
   "language": "python",
   "name": "python3"
  },
  "language_info": {
   "codemirror_mode": {
    "name": "ipython",
    "version": 3
   },
   "file_extension": ".py",
   "mimetype": "text/x-python",
   "name": "python",
   "nbconvert_exporter": "python",
   "pygments_lexer": "ipython3",
   "version": "3.11.9"
  }
 },
 "nbformat": 4,
 "nbformat_minor": 2
}
